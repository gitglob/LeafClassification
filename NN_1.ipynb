{
 "cells": [
  {
   "cell_type": "markdown",
   "metadata": {
    "id": "64EuvcuD9GF1"
   },
   "source": [
    "## Exercise 9\n",
    "\n",
    "**Tip** This is a very small dataset (number of observations) compared to the number of features.\n",
    "This means that overfitting may be an issue, and sometimes fancy tricks won't do any good. \n",
    "Keep that in mind, and always start simple.\n",
    "\n",
    "**3.1) Improve the network**, and get as high a validation score as you can. \n",
    "When trying to improve the network nothing is sacred. You can try various learning rates, batch sizes, validation sizes, etc. \n",
    "And most importantly, the validation set is very small (only 1 sample per class), etc.\n",
    "\n",
    "To get you off to a good start we have created a list of **things you might want to try**:\n",
    "* Add more layers (mostly fully connected and convolutional)\n",
    "* Increase or decrease the batch size \n",
    "* Use dropout (a lot - e.g. between the convolutional layers)\n",
    "* Use batch normalization (a lot)\n",
    "* Try with L2 regularization (weight decay)\n",
    "* Use only the image for training (with CNN) - comment on the increased time between iterations.\n",
    "* Change the image size to be bigger or smaller\n",
    "* Try other combinations of FFN, CNN, RNN parts in various ways (bigger is not always better)\n",
    "\n",
    "If your network is not performing as well as you would like it to, [here](http://theorangeduck.com/page/neural-network-not-working) is a great explanation of what might have gone wrong.\n",
    "\n",
    "\n",
    "**3.2) Improve Kaggle score**. Once happy try to get the best score on Kaggle for this dataset as you can (**upload** instructions below)\n",
    "You can upload your solution multiple times as you progress.\n",
    "A very good implementation would get a score between $0.04$ to $0.06$ (the smaller the better), try and see if you can get there, and explain what might have gone wrong if you can't. \n",
    "\n",
    "\n",
    "**3.3) Reflect on the process**, and how you got to your final design and discuss your final results. \n",
    "What worked, and what didn't?\n",
    "Include at least the following: \n",
    "* Description of the final architecture\n",
    "* Description of the training parameters\n",
    "* Description of the final results (Kaggle and validation)\n",
    "\n",
    "**Answer:**\n"
   ]
  },
  {
   "attachments": {},
   "cell_type": "markdown",
   "metadata": {},
   "source": [
    "# Move to the directory"
   ]
  },
  {
   "cell_type": "code",
   "execution_count": 1,
   "metadata": {},
   "outputs": [
    {
     "name": "stdout",
     "output_type": "stream",
     "text": [
      "/zhome/68/a/154632/Documents/dl/LeafClassification\n"
     ]
    }
   ],
   "source": [
    "cd ~/Documents/dl/LeafClassification"
   ]
  },
  {
   "cell_type": "code",
   "execution_count": 2,
   "metadata": {},
   "outputs": [
    {
     "name": "stdout",
     "output_type": "stream",
     "text": [
      "6_1_EXE_Kaggle_Leaf_Challenge.ipynb  Submission.ipynb  \u001b[0m\u001b[38;5;27mpickles\u001b[0m/\n",
      "NN.ipynb                             \u001b[38;5;27m__pycache__\u001b[0m/      sample_submission.csv\n",
      "NN_1.ipynb                           data_utils.py     test.csv\n",
      "Preprocessing.ipynb                  \u001b[38;5;27mimages\u001b[0m/           train.csv\n",
      "README.md                            my_process.md\n"
     ]
    }
   ],
   "source": [
    "ls"
   ]
  },
  {
   "attachments": {},
   "cell_type": "markdown",
   "metadata": {
    "id": "GyUQS_w3iwdy"
   },
   "source": [
    "# Libraries"
   ]
  },
  {
   "cell_type": "code",
   "execution_count": 20,
   "metadata": {
    "id": "AXSG__0hivvb"
   },
   "outputs": [],
   "source": [
    "%matplotlib inline\n",
    "import matplotlib\n",
    "import numpy as np\n",
    "import pandas as pd\n",
    "import matplotlib.pyplot as plt\n",
    "import glob\n",
    "import os\n",
    "import time\n",
    "import copy\n",
    "\n",
    "from IPython.display import clear_output\n",
    "from skimage.io import imread\n",
    "from skimage.transform import resize\n",
    "\n",
    "import data_utils\n",
    "\n",
    "import torch\n",
    "from torch.autograd import Variable\n",
    "import torch.nn as nn\n",
    "import torch.optim as optim\n",
    "from torch.nn import Linear, GRU, Conv2d, Dropout, MaxPool2d, BatchNorm1d\n",
    "from torch.nn.functional import relu, elu, relu6, sigmoid, tanh, softmax\n",
    "from skimage import io\n",
    "from torchvision.io import read_image\n",
    "from torch.utils.data import Dataset, DataLoader\n",
    "import torchvision.transforms as transforms\n",
    "from torchvision.models.quantization import resnet50, ResNet50_QuantizedWeights\n",
    "import torch.nn.functional as F\n",
    "from torch.utils.data.sampler import SubsetRandomSampler\n"
   ]
  },
  {
   "attachments": {},
   "cell_type": "markdown",
   "metadata": {},
   "source": [
    "# Check if CUDA device is available"
   ]
  },
  {
   "cell_type": "code",
   "execution_count": 21,
   "metadata": {},
   "outputs": [
    {
     "name": "stdout",
     "output_type": "stream",
     "text": [
      "Running GPU.\n"
     ]
    }
   ],
   "source": [
    "use_cuda = torch.cuda.is_available()\n",
    "print(\"Running GPU.\") if use_cuda else print(\"No GPU available.\")\n",
    "device = torch.device('cuda' if torch.cuda.is_available() else 'cpu')  \n",
    "\n",
    "def get_variable(x):\n",
    "    \"\"\" Converts tensors to cuda, if available. \"\"\"\n",
    "    if use_cuda:\n",
    "        return x.cuda()\n",
    "    return x\n",
    "\n",
    "\n",
    "def get_numpy(x):\n",
    "    \"\"\" Get numpy array for both cuda and not. \"\"\"\n",
    "    if use_cuda:\n",
    "        return x.cpu().data.numpy()\n",
    "    return x.data.numpy()"
   ]
  },
  {
   "attachments": {},
   "cell_type": "markdown",
   "metadata": {},
   "source": [
    "# Load data"
   ]
  },
  {
   "cell_type": "code",
   "execution_count": 22,
   "metadata": {},
   "outputs": [],
   "source": [
    "import pickle\n",
    "with open('pickles/data.pickle', 'rb') as f:\n",
    "    data = pickle.load(f)"
   ]
  },
  {
   "attachments": {},
   "cell_type": "markdown",
   "metadata": {
    "id": "Q7eaSVfsvKos"
   },
   "source": [
    "# Utils"
   ]
  },
  {
   "cell_type": "code",
   "execution_count": 23,
   "metadata": {
    "id": "zLfyufVYjBDh"
   },
   "outputs": [],
   "source": [
    "class SelectItem(nn.Module):\n",
    "    def __init__(self, item_index):\n",
    "        super(SelectItem, self).__init__()\n",
    "        self._name = 'selectitem'\n",
    "        self.item_index = item_index\n",
    "\n",
    "    def forward(self, inputs):\n",
    "        return inputs[self.item_index]"
   ]
  },
  {
   "cell_type": "code",
   "execution_count": 24,
   "metadata": {
    "id": "hSg83cnaY_9R"
   },
   "outputs": [],
   "source": [
    "def conv_size(img_size, kernel_size, stride, padding, channels):\n",
    "    W = img_size\n",
    "    K = kernel_size\n",
    "    P = padding\n",
    "    S = stride\n",
    "\n",
    "    output_size = int((W-K+(2*P))/S)+1\n",
    "\n",
    "    return (output_size, output_size, channels)"
   ]
  },
  {
   "cell_type": "code",
   "execution_count": 25,
   "metadata": {
    "id": "NxxSsEcObVtp"
   },
   "outputs": [],
   "source": [
    "def pool_size(img_size, kernel_size, stride, channels):\n",
    "    I = img_size\n",
    "    F = kernel_size\n",
    "    S = stride\n",
    "\n",
    "    output_size = (((I - F) / S) + 1)\n",
    "    \n",
    "    return (output_size, output_size, channels)"
   ]
  },
  {
   "cell_type": "code",
   "execution_count": 26,
   "metadata": {},
   "outputs": [
    {
     "name": "stdout",
     "output_type": "stream",
     "text": [
      "(64, 64, 8)\n",
      "(32.0, 32.0, 8)\n"
     ]
    }
   ],
   "source": [
    "print(conv_size(128, 3, 2, 1, 8))\n",
    "print(pool_size(64, 2, 2, 8))"
   ]
  },
  {
   "attachments": {},
   "cell_type": "markdown",
   "metadata": {},
   "source": [
    "# Parameters"
   ]
  },
  {
   "cell_type": "code",
   "execution_count": 27,
   "metadata": {},
   "outputs": [],
   "source": [
    "IMAGE_SHAPE = (128, 128, 1)\n",
    "NUM_CLASSES =  99\n",
    "batch_size = 32\n",
    "# For all three features types margin, shape, and texture, we have NUM_FEATURES for each type.\n",
    "NUM_FEATURES = 64  # <-- Your answer here"
   ]
  },
  {
   "attachments": {},
   "cell_type": "markdown",
   "metadata": {
    "id": "kuNFmtv6vOSB"
   },
   "source": [
    "# Advanced Model"
   ]
  },
  {
   "attachments": {},
   "cell_type": "markdown",
   "metadata": {},
   "source": [
    "## Print some info on the dataset"
   ]
  },
  {
   "cell_type": "code",
   "execution_count": 28,
   "metadata": {},
   "outputs": [
    {
     "name": "stdout",
     "output_type": "stream",
     "text": [
      "Row shape: (194,)\n",
      "ID: 109\n",
      "Species: Quercus_Texana\n",
      "Margins' shape: (64,)\n",
      "Shapes' shape: (64,)\n",
      "Textures' shape: (64,)\n"
     ]
    }
   ],
   "source": [
    "leafs_frame = pd.read_csv('train.csv')\n",
    "\n",
    "n = 65\n",
    "row = leafs_frame.iloc[n, :]\n",
    "id = leafs_frame.iloc[n, 0]\n",
    "img_name = str(id) + '.jpg'\n",
    "species = leafs_frame.iloc[n, 1]\n",
    "margins = leafs_frame.iloc[n, 2:66]\n",
    "shapes = leafs_frame.iloc[n, 66:130]\n",
    "textures = leafs_frame.iloc[n, 130:]\n",
    "\n",
    "print(f'Row shape: {row.shape}')\n",
    "print(f'ID: {id}')\n",
    "print(f'Species: {species}')\n",
    "print(f'Margins\\' shape: {margins.shape}')\n",
    "print(f'Shapes\\' shape: {shapes.shape}')\n",
    "print(f'Textures\\' shape: {textures.shape}')"
   ]
  },
  {
   "attachments": {},
   "cell_type": "markdown",
   "metadata": {
    "id": "1RPZYUXFvUIJ"
   },
   "source": [
    "## Data Loader"
   ]
  },
  {
   "cell_type": "code",
   "execution_count": 29,
   "metadata": {
    "id": "-s6imHe0vTk8"
   },
   "outputs": [],
   "source": [
    "class LeafDataset(Dataset):\n",
    "    \"\"\"Leaf dataset.\"\"\"\n",
    "\n",
    "    def __init__(self, csv_file, root_dir, transform=None, train=False, test=False):\n",
    "        \"\"\"\n",
    "        Args:\n",
    "            csv_file (string): Path to the csv file with annotations.\n",
    "            root_dir (string): Directory with all the images.\n",
    "            transform (callable, optional): Optional transform to be applied\n",
    "                on a sample.\n",
    "        \"\"\"\n",
    "        self.leafs_df = pd.read_csv(csv_file)\n",
    "        self.data = self.leafs_df.values\n",
    "        self.root_dir = root_dir\n",
    "        self.transform = transform\n",
    "        self.train = train\n",
    "        self.test = test\n",
    "\n",
    "        self.parse_data()\n",
    "\n",
    "    def parse_data(self):\n",
    "        self.ids = np.array(self.data[:, 0], dtype=int)\n",
    "        if self.train:\n",
    "            self.labels = pd.Categorical(pd.factorize(self.leafs_df.species)[0])\n",
    "            self.labels = np.array(self.labels)\n",
    "            self.label_dummies = pd.get_dummies(self.leafs_df.species)\n",
    "            self.label_dummies = np.array(self.label_dummies)\n",
    "            self.species = np.array(self.data[:, 1], dtype=str)\n",
    "            self.margins = np.array(self.data[:, 2:66], dtype=float)\n",
    "            self.shapes = np.array(self.data[:, 66:130], dtype=float)\n",
    "            self.textures = np.array(self.data[:, 130:], dtype=float)\n",
    "        if self.test:\n",
    "            self.labels = np.empty((len(self.data)), dtype=int)\n",
    "            self.label_dummies = np.empty((len(self.data), NUM_CLASSES), dtype=int)\n",
    "            self.species = np.empty((len(self.data)), dtype=str)\n",
    "            self.margins = np.array(self.data[:, 1:65], dtype=float)\n",
    "            self.shapes = np.array(self.data[:, 65:129], dtype=float)\n",
    "            self.textures = np.array(self.data[:, 129:], dtype=float)\n",
    "\n",
    "\n",
    "    def __len__(self):\n",
    "        return len(self.leafs_df)\n",
    "\n",
    "    def __getitem__(self, idx):\n",
    "        # get the image\n",
    "        img_name = str(self.ids[idx]) + '.jpg'\n",
    "        img_path = os.path.join(self.root_dir, img_name)\n",
    "        image = io.imread(img_path)\n",
    "\n",
    "        # no matter what happens, we need to padd all the images to the same dimensions, so that we can resize them without distorting them\n",
    "        image = data_utils.pad2square(image)  # Make the image square\n",
    "        image = resize(image, output_shape=(128, 128), mode='reflect', anti_aliasing=True)  # resizes the image\n",
    "\n",
    "        # augment the image if chosen to\n",
    "        if self.transform:\n",
    "            image = self.transform(image)\n",
    "\n",
    "        # get the other data\n",
    "        margin = self.margins[idx]\n",
    "        shape = self.shapes[idx]\n",
    "        texture = self.textures[idx]\n",
    "        label = self.labels[idx]\n",
    "        label_dummy = self.label_dummies[idx]\n",
    "        specie = self.species[idx]\n",
    "            \n",
    "        return image, margin, shape, texture, label, label_dummy, specie"
   ]
  },
  {
   "attachments": {},
   "cell_type": "markdown",
   "metadata": {},
   "source": [
    "## Load trainset, valset and testset using the Dataloader"
   ]
  },
  {
   "cell_type": "code",
   "execution_count": 30,
   "metadata": {},
   "outputs": [],
   "source": [
    "train_transform = transforms.Compose([transforms.ToTensor()])\n",
    "val_transform = transforms.Compose([transforms.ToTensor()])\n",
    "train_csv = 'train.csv'\n",
    "root_dir = 'images/'\n",
    "\n",
    "batch_size = 32\n",
    "trainset = LeafDataset(train_csv, root_dir, transform=train_transform, train=True, test=False)"
   ]
  },
  {
   "cell_type": "code",
   "execution_count": 31,
   "metadata": {},
   "outputs": [],
   "source": [
    "validation_split = .2\n",
    "shuffle_dataset = True\n",
    "random_seed = 42\n",
    "\n",
    "# Creating data indices for training and validation splits:\n",
    "dataset_size = len(trainset)\n",
    "indices = list(range(dataset_size))\n",
    "split = int(np.floor(validation_split * dataset_size))\n",
    "if shuffle_dataset :\n",
    "    np.random.seed(random_seed)\n",
    "    np.random.shuffle(indices)\n",
    "train_indices, val_indices = indices[split:], indices[:split]\n",
    "\n",
    "# Creating PT data samplers and loaders:\n",
    "train_sampler = SubsetRandomSampler(train_indices)\n",
    "valid_sampler = SubsetRandomSampler(val_indices)\n",
    "\n",
    "train_loader = DataLoader(trainset, batch_size=batch_size, sampler=train_sampler, num_workers=0)\n",
    "val_loader = DataLoader(trainset, batch_size=batch_size, sampler=valid_sampler, num_workers=0)"
   ]
  },
  {
   "cell_type": "code",
   "execution_count": 32,
   "metadata": {},
   "outputs": [],
   "source": [
    "test_csv = 'test.csv'\n",
    "testset = LeafDataset(test_csv, root_dir, transform=train_transform, train=False, test=True)\n",
    "test_loader = DataLoader(testset, batch_size=batch_size, shuffle=False, num_workers=0)"
   ]
  },
  {
   "attachments": {},
   "cell_type": "markdown",
   "metadata": {},
   "source": [
    "## Plot function"
   ]
  },
  {
   "cell_type": "code",
   "execution_count": 14,
   "metadata": {},
   "outputs": [],
   "source": [
    "def show_leafs(image, margin, shape, texture, label=None, species=None):\n",
    "    \"\"\"Show image and margin\"\"\"\n",
    "    # Convert 3d image to 2d\n",
    "    img_shape = image.shape\n",
    "    image = image.numpy().reshape(img_shape[1], img_shape[2])\n",
    "    \n",
    "    fig = plt.figure(figsize=(20,3))\n",
    "    ax1 = fig.add_subplot(141)\n",
    "    ax1.imshow(image)\n",
    "    ax2 = fig.add_subplot(142)\n",
    "    ax2.plot(margins)\n",
    "    ax3 = fig.add_subplot(143)\n",
    "    ax3.plot(shapes)\n",
    "    ax4 = fig.add_subplot(144)\n",
    "    ax4.plot(textures)\n",
    "    plt.suptitle(f\"species: {species}\")\n",
    "    plt.pause(0.001)  # pause a bit so that plots are updated\n",
    "    plt.show()"
   ]
  },
  {
   "attachments": {},
   "cell_type": "markdown",
   "metadata": {},
   "source": [
    "## Test dataloader and plot function"
   ]
  },
  {
   "cell_type": "code",
   "execution_count": 15,
   "metadata": {},
   "outputs": [
    {
     "name": "stdout",
     "output_type": "stream",
     "text": [
      "0 torch.Size([1, 128, 128]) (64,) (64,) (64,)\n",
      "sample #0\n"
     ]
    },
    {
     "data": {
      "image/png": "[encoded data removed]",
      "text/plain": [
       "<Figure size 2000x300 with 4 Axes>"
      ]
     },
     "metadata": {},
     "output_type": "display_data"
    }
   ],
   "source": [
    "for i in range(len(trainset)):\n",
    "    data = trainset[i]\n",
    "    image, margins, shapes, textures, label, label_dummy, species = data\n",
    "    \n",
    "    print(i, image.shape, margins.shape, shapes.shape, textures.shape)\n",
    "\n",
    "    print(f'sample #{i}')\n",
    "    show_leafs(image, margins, shapes, textures, label, species)\n",
    "\n",
    "    if i == 0:\n",
    "        break"
   ]
  },
  {
   "attachments": {},
   "cell_type": "markdown",
   "metadata": {},
   "source": [
    "## Network"
   ]
  },
  {
   "cell_type": "code",
   "execution_count": 33,
   "metadata": {
    "id": "oN7l36WoR6Oh"
   },
   "outputs": [],
   "source": [
    "# The image shape should be of the format (height, width, channels)\n",
    "IMAGE_SHAPE = (128, 128, 1)   # <-- Your answer here\n",
    "NUM_CLASSES =  99  # <-- Your answer here \n",
    "\n",
    "# For all three features types margin, shape, and texture, we have NUM_FEATURES for each type.\n",
    "NUM_FEATURES = 64  # <-- Your answer here"
   ]
  },
  {
   "cell_type": "code",
   "execution_count": 34,
   "metadata": {
    "colab": {
     "base_uri": "https://localhost:8080/"
    },
    "id": "jQxXcMc5RMI1",
    "outputId": "d57b0e03-2601-4044-c1c3-14934b86b239"
   },
   "outputs": [
    {
     "name": "stdout",
     "output_type": "stream",
     "text": [
      "Net(\n",
      "  (convolutional): Sequential(\n",
      "    (0): Conv2d(1, 8, kernel_size=(3, 3), stride=(2, 2), padding=(1, 1))\n",
      "    (1): ReLU()\n",
      "    (2): BatchNorm2d(8, eps=1e-05, momentum=0.1, affine=True, track_running_stats=True)\n",
      "    (3): MaxPool2d(kernel_size=2, stride=2, padding=0, dilation=1, ceil_mode=False)\n",
      "    (4): Dropout(p=0.2, inplace=False)\n",
      "  )\n",
      "  (fc1): Sequential(\n",
      "    (0): Linear(in_features=8192, out_features=768, bias=False)\n",
      "    (1): BatchNorm1d(768, eps=1e-05, momentum=0.1, affine=True, track_running_stats=True)\n",
      "    (2): Dropout(p=0.5, inplace=False)\n",
      "  )\n",
      "  (fc2): Sequential(\n",
      "    (0): Linear(in_features=128, out_features=128, bias=False)\n",
      "    (1): BatchNorm1d(128, eps=1e-05, momentum=0.1, affine=True, track_running_stats=True)\n",
      "    (2): Dropout(p=0.5, inplace=False)\n",
      "  )\n",
      "  (recurrent): Sequential(\n",
      "    (0): GRU(64, 128, num_layers=2)\n",
      "    (1): SelectItem()\n",
      "  )\n",
      "  (l_out): Sequential(\n",
      "    (0): Linear(in_features=1024, out_features=99, bias=False)\n",
      "  )\n",
      ")\n"
     ]
    }
   ],
   "source": [
    "height, width, channels = IMAGE_SHAPE\n",
    "batch_size = 32\n",
    "\n",
    "# Keep track of features to output layer\n",
    "conv_feature_size = 768\n",
    "vector_input_size = 128\n",
    "vector_feature_size = 128\n",
    "rnn_input_size = 64 # must be the same as the x_shape channels\n",
    "rnn_feature_size = 128\n",
    "features_cat_size = 1024\n",
    "\n",
    "class Net(nn.Module):\n",
    "    def __init__(self):\n",
    "        super(Net, self).__init__()\n",
    "        \n",
    "        # prepare pretrained model\n",
    "\n",
    "        # custom network layers\n",
    "        # Image\n",
    "        self.convolutional = nn.Sequential(\n",
    "            nn.Conv2d(in_channels = 1,\n",
    "                    out_channels = 8,\n",
    "                    kernel_size = (3, 3),\n",
    "                    stride = 2,\n",
    "                    padding = 1),\n",
    "            nn.ReLU(),\n",
    "            nn.BatchNorm2d(8),\n",
    "            nn.MaxPool2d(kernel_size = 2, \n",
    "                         stride = 2),\n",
    "            nn.Dropout(0.2)\n",
    "        )\n",
    "\n",
    "        self.fc1 = nn.Sequential(\n",
    "            nn.Linear(in_features=32*32*8,\n",
    "                    out_features=conv_feature_size,\n",
    "                    bias=False),\n",
    "            nn.BatchNorm1d(768),\n",
    "            nn.Dropout(0.5)\n",
    "        )\n",
    "\n",
    "        ## margin, texture\n",
    "        self.fc2 = nn.Sequential(\n",
    "            nn.Linear(in_features=vector_input_size,\n",
    "                    out_features=vector_feature_size,\n",
    "                    bias=False),\n",
    "            nn.BatchNorm1d(128),\n",
    "            nn.Dropout(0.5)\n",
    "        )\n",
    "\n",
    "\n",
    "        # shape\n",
    "        self.recurrent = nn.Sequential(\n",
    "            nn.GRU(input_size=rnn_input_size,     # The number of expected features in the input x\n",
    "                    hidden_size=rnn_feature_size, # The number of features in the hidden state h\n",
    "                    num_layers=2),                # Number of recurrent layers\n",
    "            SelectItem(0)\n",
    "        )\n",
    "\n",
    "        # classification\n",
    "        self.l_out = nn.Sequential(\n",
    "            nn.Linear(in_features=features_cat_size,\n",
    "                        out_features=NUM_CLASSES,\n",
    "                        bias=False)\n",
    "        )\n",
    "        \n",
    "        \n",
    "    def forward(self, X):\n",
    "        X_img, x_margin, x_shape, x_texture = X\n",
    "        # for _ in X:\n",
    "        #     print(f\"Device: {_.get_device()}\")\n",
    "        features = []\n",
    "\n",
    "        # Change layer order in images\n",
    "        X_img = X_img.float()\n",
    "        # print(X_img.shape)\n",
    "        # X_img = X_img.permute(0, 3, 1, 2)\n",
    "        \n",
    "        ## Convolutional layer ##\n",
    "        # - Change dimensions to fit the convolutional layer \n",
    "        # - Apply Conv2d\n",
    "        # - Use an activation function\n",
    "        # - Change dimensions s.t. the features can be used in the final FFNN output layer\n",
    "        \n",
    "        # >> YOUR CODE HERE <<\n",
    "        ## 1st way, distort image\n",
    "        # print(\"Convolutional...\")\n",
    "        # print(X_img.shape)\n",
    "        X_img = self.convolutional(X_img)\n",
    "        # print(X_img.shape)\n",
    "        X_img = X_img.reshape(X_img.size(0), -1)\n",
    "        # print(X_img.shape)\n",
    "        features_img = self.fc1(X_img)\n",
    "        # print(features_img.shape)\n",
    "        features.append(features_img)\n",
    "        \n",
    "        # Use concatenated leaf features for FFNN ##\n",
    "        # print(\"\\nFeed Forward...\")\n",
    "        # print(x_margin.shape, x_texture.shape)\n",
    "        x = torch.cat((x_margin, x_texture), dim=1)  # if you want to use features as feature vectors\n",
    "        # print(x.shape)\n",
    "        x = self.fc2(x)\n",
    "        features_vector = x\n",
    "        # print(features_vector.shape)\n",
    "        features.append(features_vector)\n",
    "        \n",
    "        ## Use concatenated leaf features for RNN ##\n",
    "        # - Chage dimensions to fit GRU\n",
    "        # - Apply GRU\n",
    "        # - Change dimensions s.t. the features can be used in the final FFNN output layer\n",
    "\n",
    "        # >> YOUR CODE HERE <<\n",
    "        # print(\"\\nRecurrent...\")\n",
    "        # print(x_shape.shape)\n",
    "        features_rnn = self.recurrent(x_shape)\n",
    "        features.append(features_rnn)\n",
    "        # print(features_rnn.shape)\n",
    "        \n",
    "        ## Output layer where all features are in use ##\n",
    "        # print(\"\\Features...\")\n",
    "        features_final = torch.cat(features, dim=1)\n",
    "        # print(features_final.shape)\n",
    "        \n",
    "        # print(\"\\nOutput...\")\n",
    "        out = self.l_out(features_final)\n",
    "        # print(out.shape, out_prob.shape)\n",
    "       \n",
    "        return out, F.softmax(out, dim=1)\n",
    "\n",
    "net = Net()\n",
    "net = net.float()\n",
    "if use_cuda:\n",
    "    net.to(device)\n",
    "print(net)"
   ]
  },
  {
   "attachments": {},
   "cell_type": "markdown",
   "metadata": {},
   "source": [
    "## Test network"
   ]
  },
  {
   "cell_type": "code",
   "execution_count": 35,
   "metadata": {},
   "outputs": [
    {
     "name": "stdout",
     "output_type": "stream",
     "text": [
      "Shape: torch.Size([32, 99]), Outputtensor([[-0.6795,  0.1405, -0.0415,  ...,  0.4286, -0.8594, -0.8159],\n",
      "        [ 1.6479, -0.4350, -0.8774,  ..., -0.5410, -0.1326,  0.8889],\n",
      "        [ 0.4334,  0.3200, -0.3300,  ...,  0.1539, -1.1196,  0.1347],\n",
      "        ...,\n",
      "        [-0.3233,  0.0813,  1.0052,  ..., -0.3711,  0.2900, -0.6809],\n",
      "        [-0.8677,  0.2066,  0.8254,  ...,  1.0279, -0.1499, -1.1087],\n",
      "        [-1.0864, -0.9937, -0.0731,  ..., -0.1868, -1.1783,  1.5319]],\n",
      "       device='cuda:0', grad_fn=<MmBackward0>)\n",
      "Shape: torch.Size([32, 99]), out_softmax: tensor([[0.0043, 0.0097, 0.0081,  ..., 0.0130, 0.0036, 0.0037],\n",
      "        [0.0377, 0.0047, 0.0030,  ..., 0.0042, 0.0064, 0.0177],\n",
      "        [0.0121, 0.0108, 0.0056,  ..., 0.0091, 0.0026, 0.0090],\n",
      "        ...,\n",
      "        [0.0063, 0.0095, 0.0239,  ..., 0.0060, 0.0117, 0.0044],\n",
      "        [0.0033, 0.0097, 0.0179,  ..., 0.0220, 0.0068, 0.0026],\n",
      "        [0.0020, 0.0022, 0.0055,  ..., 0.0049, 0.0018, 0.0274]],\n",
      "       device='cuda:0', grad_fn=<SoftmaxBackward0>)\n",
      "Shape: torch.Size([32]), labels: tensor([16, 84, 96, 56, 42, 80, 87,  7, 40, 82, 22, 84, 23, 61, 13, 49, 53,  6,\n",
      "        31, 78, 91, 50, 40, 11, 50, 57, 32, 74, 68, 35,  8, 44],\n",
      "       device='cuda:0')\n",
      "Shape: torch.Size([32]), predictions: tensor([84, 21, 32, 81, 67, 75, 92, 73, 23, 85, 43, 15, 81,  1, 62, 78, 33,  3,\n",
      "        32, 89, 96, 17, 98, 46, 44, 81, 22, 70, 53, 88,  8, 81],\n",
      "       device='cuda:0')\n"
     ]
    }
   ],
   "source": [
    "loss_fn = nn.CrossEntropyLoss()\n",
    "\n",
    "for data in val_loader:\n",
    "    # convert everything to cuda tensor on device 0\n",
    "    image, margins, shapes, textures, labels, label_dummies, species = data\n",
    "    species = np.array(species)\n",
    "    \n",
    "    image = image.to(device).float()\n",
    "    margins = margins.to(device).float()\n",
    "    shapes = shapes.to(device).float()\n",
    "    textures = textures.to(device).float()\n",
    "\n",
    "    # split input and label\n",
    "    labels = labels.to(device)\n",
    "    label_dummies = label_dummies.to(device).float()\n",
    "\n",
    "    inputs = image, margins, shapes, textures\n",
    "\n",
    "    break\n",
    "\n",
    "net.train()\n",
    "output, y_prob = net(inputs)\n",
    "(y_prob_max, y_pred) = torch.max(y_prob, 1)\n",
    "\n",
    "# check predicted probabilities\n",
    "print(f\"Shape: {output.shape}, Output{output}\")\n",
    "print(f\"Shape: {y_prob.shape}, out_softmax: {y_prob}\")\n",
    "\n",
    "# check predicted labels\n",
    "print(f\"Shape: {labels.shape}, labels: {labels}\")\n",
    "print(f\"Shape: {y_pred.shape}, predictions: {y_pred}\")\n",
    "\n",
    "# loss\n",
    "# loss = loss_fn(output, labels)\n",
    "\n",
    "# # calculate metrics to show the user\n",
    "# correct = (labels == y_pred).sum().cpu().item()\n",
    "# loss = loss / len(train_loader)\n",
    "            \n",
    "# #print(' - accuracy: %f' % train_accuracy)\n",
    "# train_accuracy = correct/(len(trainset)*128*128)\n",
    "# print(' - accuracy: %f' % train_accuracy)\n",
    "# print(' - loss: %f' % loss)"
   ]
  },
  {
   "attachments": {},
   "cell_type": "markdown",
   "metadata": {},
   "source": [
    "## Train function"
   ]
  },
  {
   "cell_type": "code",
   "execution_count": 39,
   "metadata": {},
   "outputs": [],
   "source": [
    "def train(model, opt, loss_fn, epochs, train_loader, val_loader):\n",
    "    epoch_results = []\n",
    "    for epoch in range(epochs):\n",
    "        print(f\"Epoch #{epoch}\")\n",
    "\n",
    "        train_loss = 0\n",
    "        train_correct = 0\n",
    "        model.train()  # train mode\n",
    "        batch_results = []\n",
    "        for (i, batch) in enumerate(train_loader):\n",
    "            # extract subfields\n",
    "            image, margins, shapes, textures, labels, label_dummies, species = batch\n",
    "            \n",
    "            # convert to float and move to cuda\n",
    "            image = image.to(device).float()\n",
    "            margins = margins.to(device).float()\n",
    "            shapes = shapes.to(device).float()\n",
    "            textures = textures.to(device).float()\n",
    "\n",
    "            # split input and label\n",
    "            inputs = image, margins, shapes, textures\n",
    "            labels = labels.to(device)\n",
    "            label_dummies = label_dummies.to(device).float()\n",
    "\n",
    "            # set parameter gradients to zero\n",
    "            opt.zero_grad()\n",
    "\n",
    "            # forward\n",
    "            output, y_prob = model(inputs)\n",
    "            (y_prob_max, y_pred) = torch.max(y_prob, 1)\n",
    "            \n",
    "            # print(f\"Output: {output}\")\n",
    "            # print(f\"label_dummies: {label_dummies}\")\n",
    "            # print(f\"Predicted: {y_pred}\")\n",
    "            # print(f\"Labels: {labels}\")\n",
    "            \n",
    "            # calculate loss function\n",
    "            batch_train_loss = loss_fn(output, labels)\n",
    "            # back-propagation\n",
    "            batch_train_loss.backward()\n",
    "            # weight update\n",
    "            opt.step()\n",
    "\n",
    "            # calculate metrics to show the user\n",
    "            train_loss += batch_train_loss / len(train_loader)\n",
    "            train_correct += (labels == y_pred).sum().cpu().item()\n",
    "            batch_train_accuracy = train_correct/batch_size\n",
    "            \n",
    "        #print(' - accuracy: %f' % train_accuracy)\n",
    "        train_accuracy = train_correct/(len(trainset)*(1-validation_split))\n",
    "        print(' - train accuracy: %f' % train_accuracy)\n",
    "        print(' - train loss: %f' % train_loss)\n",
    "\n",
    "        # show intermediate results\n",
    "        # Compute the val accuracy\n",
    "        model.eval()  # testing mode\n",
    "        val_correct = 0\n",
    "        val_loss = 0\n",
    "        with torch.no_grad():\n",
    "            for (i, batch) in enumerate(val_loader):\n",
    "                # extract subfields\n",
    "                image, margins, shapes, textures, labels, label_dummies, species = batch\n",
    "                \n",
    "                # convert to float and move to cuda\n",
    "                image = image.to(device).float()\n",
    "                margins = margins.to(device).float()\n",
    "                shapes = shapes.to(device).float()\n",
    "                textures = textures.to(device).float()\n",
    "\n",
    "                # split input and label\n",
    "                inputs = image, margins, shapes, textures\n",
    "                labels = labels.to(device)\n",
    "                label_dummies = label_dummies.to(device).float()\n",
    "\n",
    "                output, y_prob = model(inputs)\n",
    "                (y_prob_max, y_pred) = torch.max(y_prob, 1)\n",
    "\n",
    "                batch_val_loss = loss_fn(output, labels)\n",
    "\n",
    "                val_loss += batch_val_loss/batch_size\n",
    "                val_correct += (labels==y_pred).sum().cpu().item()\n",
    "                batch_val_accuracy = val_correct/batch_size\n",
    "\n",
    "        val_accuracy = val_correct/(len(trainset)*validation_split)\n",
    "        print(' - val accuracy: %f' % val_accuracy)\n",
    "        print(' - val loss: %f' % val_loss)\n",
    "        print(\"\\n\")\n",
    "\n",
    "        epoch_results.append([train_accuracy, train_loss.item(), val_accuracy, val_loss.item()])\n",
    "    \n",
    "    return epoch_results"
   ]
  },
  {
   "attachments": {},
   "cell_type": "markdown",
   "metadata": {},
   "source": [
    "## Train parameters"
   ]
  },
  {
   "cell_type": "code",
   "execution_count": 40,
   "metadata": {},
   "outputs": [],
   "source": [
    "LEARNING_RATE = 0.001\n",
    "num_epochs = 3\n",
    "criterion = nn.CrossEntropyLoss()\n",
    "\n",
    "# weight_decay is equal to L2 regularization\n",
    "optimizer = optim.Adam(net.parameters(), lr=LEARNING_RATE) # , momentum=0.9)\n",
    "\n",
    "def accuracy(ys, ts):\n",
    "    predictions = torch.max(ys, 1)[1]\n",
    "    correct_prediction = torch.eq(predictions, ts)\n",
    "    return torch.mean(correct_prediction.float())"
   ]
  },
  {
   "attachments": {},
   "cell_type": "markdown",
   "metadata": {},
   "source": [
    "## Train the network"
   ]
  },
  {
   "cell_type": "code",
   "execution_count": 41,
   "metadata": {},
   "outputs": [
    {
     "name": "stdout",
     "output_type": "stream",
     "text": [
      "Epoch #0\n",
      " - train accuracy: 0.645202\n",
      " - train loss: 1.486819\n",
      " - val accuracy: 0.474747\n",
      " - val loss: 0.514468\n",
      "\n",
      "\n",
      "Epoch #1\n",
      " - train accuracy: 0.921717\n",
      " - train loss: 0.447661\n",
      " - val accuracy: 0.747475\n",
      " - val loss: 0.269144\n",
      "\n",
      "\n",
      "Epoch #2\n",
      " - train accuracy: 0.983586\n",
      " - train loss: 0.163962\n",
      " - val accuracy: 0.782828\n",
      " - val loss: 0.200280\n",
      "\n",
      "\n"
     ]
    }
   ],
   "source": [
    "results = train(net, optimizer, criterion, num_epochs, train_loader, val_loader)"
   ]
  },
  {
   "attachments": {},
   "cell_type": "markdown",
   "metadata": {},
   "source": [
    "## Plot results"
   ]
  },
  {
   "cell_type": "code",
   "execution_count": 161,
   "metadata": {},
   "outputs": [
    {
     "data": {
      "image/png": "[encoded data removed]",
      "text/plain": [
       "<Figure size 1200x600 with 2 Axes>"
      ]
     },
     "metadata": {},
     "output_type": "display_data"
    }
   ],
   "source": [
    "fig, (ax1, ax2) = plt.subplots(2, figsize=(12,6))\n",
    "\n",
    "ax1.plot(np.arange(len(results)), np.array(results)[:,0], \"-*\", label=\"train_acc\")\n",
    "ax1.plot(np.arange(len(results)), np.array(results)[:,2], \"-*\", label=\"val_acc\")\n",
    "ax2.plot(np.arange(len(results)), np.array(results)[:,1], \"-*\", label=\"train_loss\")\n",
    "ax2.plot(np.arange(len(results)), np.array(results)[:,3], \"-*\", label=\"val_loss\")\n",
    "\n",
    "fig.set_tight_layout(0.2)\n",
    "fig.supxlabel(\"epoch #\")\n",
    "\n",
    "ax1.set_title(\"Accuracy over time\")\n",
    "ax1.set_ylabel(\"Accuracy\")\n",
    "ax2.set_ylabel(\"Loss\")\n",
    "ax2.set_title(\"Loss over time\")\n",
    "\n",
    "plt.show()"
   ]
  },
  {
   "cell_type": "code",
   "execution_count": null,
   "metadata": {},
   "outputs": [],
   "source": []
  }
 ],
 "metadata": {
  "kernelspec": {
   "display_name": "Python 3 (ipykernel)",
   "language": "python",
   "name": "python3"
  },
  "language_info": {
   "codemirror_mode": {
    "name": "ipython",
    "version": 3
   },
   "file_extension": ".py",
   "mimetype": "text/x-python",
   "name": "python",
   "nbconvert_exporter": "python",
   "pygments_lexer": "ipython3",
   "version": "3.8.2"
  },
  "orig_nbformat": 4,
  "vscode": {
   "interpreter": {
    "hash": "916dbcbb3f70747c44a77c7bcd40155683ae19c65e1c03b4aa3499c5328201f1"
   }
  }
 },
 "nbformat": 4,
 "nbformat_minor": 2
}
